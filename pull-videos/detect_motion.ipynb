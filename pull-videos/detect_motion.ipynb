{
 "cells": [
  {
   "cell_type": "code",
   "execution_count": null,
   "metadata": {},
   "outputs": [],
   "source": [
    "import numpy as np\n",
    "import matplotlib.pyplot as plt\n",
    "import cv2\n",
    "from pathlib import Path\n",
    "\n",
    "import utils\n",
    "import detect_motion.frame_difference as fd\n",
    "import detect_motion.optical_flow as of\n",
    "import detect_motion.background_subtract as bs"
   ]
  },
  {
   "cell_type": "code",
   "execution_count": null,
   "metadata": {},
   "outputs": [],
   "source": [
    "image_paths = list(Path('../data').glob('*.jpg'))"
   ]
  },
  {
   "cell_type": "markdown",
   "metadata": {},
   "source": [
    "### Frame Difference"
   ]
  },
  {
   "cell_type": "code",
   "execution_count": null,
   "metadata": {},
   "outputs": [],
   "source": [
    "for idx in range(1, len(image_paths)):\n",
    "    # read frames\n",
    "    frame1_bgr = cv2.imread(image_paths[idx - 1])\n",
    "    frame2_bgr = cv2.imread(image_paths[idx])\n",
    "\n",
    "    # get detections\n",
    "    detections = fd.get_detections(cv2.cvtColor(frame1_bgr, cv2.COLOR_BGR2GRAY), \n",
    "                                cv2.cvtColor(frame2_bgr, cv2.COLOR_BGR2GRAY), \n",
    "                                bbox_thresh=400,\n",
    "                                nms_thresh=1e-4)\n",
    "                                \n",
    "    # draw bounding boxes on frame\n",
    "    utils.draw_bboxes(frame2_bgr, detections)\n",
    "    \n",
    "    # save image for GIF\n",
    "    fig = plt.figure()\n",
    "    plt.imshow(frame2_bgr)\n",
    "    fig.savefig(f\"temp/frame_{idx}.png\")\n",
    "    plt.close();\n",
    "\n",
    "\n",
    "# create GIF\n",
    "utils.create_gif_from_images('frame_differencing.gif', 'temp', '.png')"
   ]
  },
  {
   "cell_type": "markdown",
   "metadata": {},
   "source": [
    "### Optical Flow"
   ]
  },
  {
   "cell_type": "code",
   "execution_count": null,
   "metadata": {},
   "outputs": [],
   "source": [
    "for idx in range(1, len(image_paths)):\n",
    "    # read frames\n",
    "    frame1_bgr = cv2.imread(image_paths[idx - 1])\n",
    "    frame2_bgr = cv2.imread(image_paths[idx])\n",
    "\n",
    "    # get detections\n",
    "    detections = of.get_detections(cv2.cvtColor(frame1_bgr, cv2.COLOR_BGR2GRAY), \n",
    "                                cv2.cvtColor(frame2_bgr, cv2.COLOR_BGR2GRAY), \n",
    "                                bbox_thresh=400,\n",
    "                                nms_thresh=1e-4)\n",
    "                                \n",
    "    # draw bounding boxes on frame\n",
    "    utils.draw_bboxes(frame2_bgr, detections)\n",
    "    \n",
    "    # save image for GIF\n",
    "    fig = plt.figure()\n",
    "    plt.imshow(frame2_bgr)\n",
    "    fig.savefig(f\"temp/frame_{idx}.png\")\n",
    "    plt.close();\n",
    "\n",
    "\n",
    "# create GIF\n",
    "utils.create_gif_from_images('frame_differencing.gif', 'temp', '.png')"
   ]
  },
  {
   "cell_type": "markdown",
   "metadata": {},
   "source": [
    "### Background Detection"
   ]
  },
  {
   "cell_type": "code",
   "execution_count": null,
   "metadata": {},
   "outputs": [],
   "source": [
    "# get background subtractor\n",
    "sub_type = 'KNN' # 'MOG2'\n",
    "if sub_type == \"MOG2\":\n",
    "    backSub = cv2.createBackgroundSubtractorMOG2(varThreshold=16, detectShadows=True)\n",
    "    # backSub.setShadowThreshold(0.75)\n",
    "else:\n",
    "    backSub = cv2.createBackgroundSubtractorKNN(dist2Threshold=1000, detectShadows=True)"
   ]
  },
  {
   "cell_type": "code",
   "execution_count": null,
   "metadata": {},
   "outputs": [],
   "source": [
    "for idx in range(0, len(image_paths)):\n",
    "    # read frames\n",
    "    frame_bgr = cv2.imread(image_paths[idx])\n",
    "\n",
    "    # get detections\n",
    "    detections = bs.get_detections(backSub, \n",
    "                                cv2.cvtColor(frame_bgr, cv2.COLOR_BGR2GRAY), \n",
    "                                bbox_thresh=100, \n",
    "                                nms_thresh=1e-2, \n",
    "                                kernel=kernel)\n",
    "                                \n",
    "    # draw bounding boxes on frame\n",
    "    utils.draw_bboxes(frame_bgr, detections)\n",
    "\n",
    "    # save image for GIF\n",
    "    fig = plt.figure(figsize=(15, 7))\n",
    "    plt.imshow(frame_bgr)\n",
    "    plt.axis('off')\n",
    "    fig.savefig(f\"temp/frame_{idx}.png\")\n",
    "    plt.close();"
   ]
  }
 ],
 "metadata": {
  "language_info": {
   "name": "python"
  }
 },
 "nbformat": 4,
 "nbformat_minor": 2
}
