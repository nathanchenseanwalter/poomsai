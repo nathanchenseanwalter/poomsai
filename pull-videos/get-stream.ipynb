{
 "cells": [
  {
   "cell_type": "code",
   "execution_count": null,
   "metadata": {},
   "outputs": [],
   "source": [
    "import yt_dlp"
   ]
  },
  {
   "cell_type": "markdown",
   "metadata": {},
   "source": [
    "Streams are very long, I found this project which can do a lot of customized video downloads. Idea is probably download video sections at a time and then run whatever algorithm we have on it. Looks like it requires sudo if Linux? Probably can't use on cluster. I can do on pc though.\n",
    "\n",
    "I got some documentation for python video downloading here, and then found some options that might be helpful.\n",
    "https://github.com/yt-dlp/yt-dlp/blob/c54ddfba0f7d68034339426223d75373c5fc86df/yt_dlp/YoutubeDL.py#L457\n",
    "\n",
    "https://github.com/yt-dlp/yt-dlp/blob/master/yt_dlp/YoutubeDL.py"
   ]
  },
  {
   "cell_type": "code",
   "execution_count": null,
   "metadata": {},
   "outputs": [],
   "source": [
    "ydl_opts = {\n",
    "    'verbose': True,\n",
    "    'download_sections': [{\n",
    "        'section': {\n",
    "            'start_time': 2,\n",
    "            'end_time': 7\n",
    "        }\n",
    "    }],\n",
    "    'download_ranges': lambda info_dict, yt_instance: [\n",
    "        {'start_time': 2, 'end_time': 7, 'title': 'first_section'},\n",
    "    ], # 'download_ranges': download_range_func(None, [(start_time, end_time)]),\n",
    "    'force_keyframes_at_cuts': True,\n",
    "    'format': 'best[ext=mp4]',\n",
    "}"
   ]
  },
  {
   "cell_type": "markdown",
   "metadata": {},
   "source": [
    "Example video to use\n",
    "\n",
    "https://www.youtube.com/watch?v=0idMy2T0K8U&t=1531s&ab_channel=MasTaekwondoTV\n",
    "\n",
    "https://www.youtube.com/playlist?list=PLUl3RDc2nKs431FfWI8sy1sAIRoCHjL4O"
   ]
  },
  {
   "cell_type": "code",
   "execution_count": null,
   "metadata": {},
   "outputs": [],
   "source": [
    "URLS = ['https://www.youtube.com/watch?v=BaW_jenozKc']\n",
    "with yt_dlp.YoutubeDL(ydl_opts) as ydl:\n",
    "    ydl.download(URLS)"
   ]
  }
 ],
 "metadata": {
  "language_info": {
   "name": "python"
  }
 },
 "nbformat": 4,
 "nbformat_minor": 2
}
